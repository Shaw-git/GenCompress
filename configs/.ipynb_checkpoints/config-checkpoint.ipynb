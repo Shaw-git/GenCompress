{
 "cells": [
  {
   "cell_type": "code",
   "execution_count": 3,
   "id": "212fe827-98e6-4340-9249-bbe9ab38e7d4",
   "metadata": {
    "tags": []
   },
   "outputs": [
    {
     "name": "stdout",
     "output_type": "stream",
     "text": [
      "YAML configuration saved to config_latent.yaml\n"
     ]
    }
   ],
   "source": [
    "import yaml\n",
    "import numpy as np\n",
    "from copy import deepcopy\n",
    "\n",
    "Testset = [\"E3SM8\"]\n",
    "\n",
    "global_param_train = { \"t_step\": 1,\n",
    "                       \"inst_norm\": True,\n",
    "                       \"train_norm\": \"range_hw\",\n",
    "                       \"test_norm\": \"range_hw\",\n",
    "                       \"train_aug\":{\"randsample\":2}}\n",
    "\n",
    "global_param_test = {  \"t_step\": 1,\n",
    "                       \"inst_norm\": False,\n",
    "                       \"train_norm\": \"range\",\n",
    "                       \"test_norm\": \"range\"}\n",
    "\n",
    "# Create a Python dictionary with the configuration\n",
    "config_data = {\"E3SM\": {\"data_path\":\"/blue/ranka/xiao.li/dataset/climate_dataset/dataset_numpy\",\n",
    "                        \"train_var\": [0,1,2,3,4],\n",
    "                        \"seq\":[8],\n",
    "                        \"test_var\": [0],\n",
    "                        \"size\": 240,\n",
    "                        \"test_size\": 256,\n",
    "                        \"block_size\": [1, 240, 240]},\n",
    "               \n",
    "               \"S3D300\": {\"data_path\":\"/home/xiao.li/SciDatasets/S3D/1.dataSet/nHep58\",\n",
    "                       \"train_var\": np.arange(10,58).tolist(),\n",
    "                       \"test_var\": np.arange(8,9).tolist(),\n",
    "                       \"size\": 512,\n",
    "                       # \"test_size\": 512,\n",
    "                       \"total_frame\": [150, 198],\n",
    "                       \"test_size\": 256,\n",
    "                       \"block_size\": [8, 256, 256]},\n",
    "               \n",
    "               \"S3D\": {\"data_path\":\"/home/xiao.li/ClimateModeling/shared_fdmodel/s3d/dataset/S3D/1.dataSet/nHep58/input_150to200steps.npy\",\n",
    "                       \"train_var\": np.arange(10,58).tolist(),\n",
    "                       \"test_var\": np.arange(8,9).tolist(),\n",
    "                       \"size\": 640,\n",
    "                       \"test_size\": 640,\n",
    "                       \"total_frame\": 50},\n",
    "\n",
    "               \"JHTDB\": {\"data_path\": '/home/xiao.li/SciDatasets/JHTDB',\n",
    "                         \"train_var\": ['isotropic_48'],\n",
    "                         \"test_var\": ['isotropic_16'],\n",
    "                        \"all_vars\":['Pressure_0001', 'xcoor', 'ycoor', 'zcoor'],\n",
    "                        \"block_size\": [8, 256, 256],\n",
    "                        \"test_size\": 256,\n",
    "                        \"size\": 512},\n",
    "               \n",
    "               \"NYX\": {\"data_path\": \"/home/xiao.li/SciDatasets/NYX/Nyx/NVB_C009_l10n512_S12345T692_z42.hdf5\",\n",
    "                       \"all_vars\": ['baryon_density', 'dark_matter_density', 'temperature', 'velocity_x', 'velocity_y', 'velocity_z'],\n",
    "                       \"train_var\": ['baryon_density', 'temperature'],\n",
    "                       \"test_var\": ['dark_matter_density'],\n",
    "                       \"test_size\": 512,\n",
    "                       \"block_size\": [8, 512, 512],\n",
    "                       \"size\": 512},\n",
    "               \n",
    "               \"Hurricane\": {\"data_path\": \"/home/xiao.li/SciDatasets/Hurricane/data\",\n",
    "                       \"all_vars\": ['pressure', 'temperature'],\n",
    "                       \"train_var\": ['pressure', 'temperature'],\n",
    "                       \"test_var\": ['pressure'],\n",
    "                       \"test_size\": 500,\n",
    "                       # \"block_size\": [8, 500, 500],\n",
    "                       \"size\": 500},\n",
    "               \n",
    "               \"Video\": {\"data_path\": \"/home/xiao.li/SciDatasets/Video/vimeo_septuplet/output_interp2frame/\",\n",
    "                       \"all_vars\": np.arange(10).tolist(),\n",
    "                       \"train_var\":np.arange(20).tolist(),\n",
    "                       \"test_var\": [0],\n",
    "                       \"test_size\": 256,\n",
    "                       \"size\": 448},\n",
    "               \n",
    "               \"ERA5\": {\"data_path\": \"/home/xiao.li/SciDatasets/ERA5/era5_t.npz\",\n",
    "                       \"all_vars\": [],\n",
    "                       \"train_var\":[],\n",
    "                       \"test_var\": [],\n",
    "                       \"test_size\": 256,\n",
    "                       \"block_size\": [8, 300,402],\n",
    "                       \"size\": 402},\n",
    "               \n",
    "               \"Sunquake\": {\"data_path\": \"/home/xiao.li/SciDatasets/Sunquake/sunquake.npz\",\n",
    "                       \"all_vars\": [],\n",
    "                       \"train_var\":[],\n",
    "                       \"test_var\": [],\n",
    "                       \"test_size\": 256,\n",
    "                       \"block_size\": [8, 256,256],\n",
    "                       \"size\": 256},\n",
    "               \n",
    "               \"Blastnet\": {\"data_path\": \"/home/xiao.li/SciDatasets/Blastnet/blastnet.npz\",\n",
    "                       \"all_vars\": [],\n",
    "                       \"train_var\":[],\n",
    "                       \"test_var\": [],\n",
    "                       \"test_size\": 256,\n",
    "                       \"block_size\": [8, 256,256],\n",
    "                       \"size\": 256},\n",
    "               \n",
    "}\n",
    "\n",
    "\n",
    "for data_name in config_data:\n",
    "    if data_name not in Testset:\n",
    "        config_data[data_name].update(deepcopy(global_param_train))\n",
    "    else:\n",
    "        config_data[data_name].update(deepcopy(global_param_test))\n",
    "\n",
    "config_data[\"Video\"][\"train_aug\"] = {}\n",
    "\n",
    "# Save the dictionary to a YAML file\n",
    "yaml_file_path = 'config_latent.yaml'\n",
    "\n",
    "with open(yaml_file_path, 'w') as yaml_file:\n",
    "    yaml.dump(config_data, yaml_file)\n",
    "\n",
    "print(f\"YAML configuration saved to {yaml_file_path}\")"
   ]
  },
  {
   "cell_type": "code",
   "execution_count": 2,
   "id": "d87009dd-29be-4da7-9bd1-37f7adef5b42",
   "metadata": {},
   "outputs": [
    {
     "data": {
      "text/plain": [
       "1.0796875"
      ]
     },
     "execution_count": 2,
     "metadata": {},
     "output_type": "execute_result"
    }
   ],
   "source": [
    "691/640"
   ]
  },
  {
   "cell_type": "code",
   "execution_count": null,
   "id": "557a17b7-cd40-4738-8a3c-28688dfaf4c9",
   "metadata": {},
   "outputs": [],
   "source": []
  }
 ],
 "metadata": {
  "kernelspec": {
   "display_name": "PyTorch-1.8.1",
   "language": "python",
   "name": "pytorch-1.8.1"
  },
  "language_info": {
   "codemirror_mode": {
    "name": "ipython",
    "version": 3
   },
   "file_extension": ".py",
   "mimetype": "text/x-python",
   "name": "python",
   "nbconvert_exporter": "python",
   "pygments_lexer": "ipython3",
   "version": "3.9.5"
  }
 },
 "nbformat": 4,
 "nbformat_minor": 5
}
